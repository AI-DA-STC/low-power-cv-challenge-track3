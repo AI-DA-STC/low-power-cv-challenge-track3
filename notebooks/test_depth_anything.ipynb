{
 "cells": [
  {
   "cell_type": "code",
   "execution_count": 3,
   "metadata": {},
   "outputs": [
    {
     "name": "stderr",
     "output_type": "stream",
     "text": [
      "/home/coder/miniforge3/envs/lpcvc-track3/lib/python3.11/site-packages/tqdm/auto.py:21: TqdmWarning: IProgress not found. Please update jupyter and ipywidgets. See https://ipywidgets.readthedocs.io/en/stable/user_install.html\n",
      "  from .autonotebook import tqdm as notebook_tqdm\n"
     ]
    }
   ],
   "source": [
    "from transformers import AutoImageProcessor, AutoModelForDepthEstimation\n",
    "import torch\n",
    "import numpy as np\n",
    "from PIL import Image\n",
    "import requests\n",
    "from glob import glob"
   ]
  },
  {
   "cell_type": "code",
   "execution_count": 4,
   "metadata": {},
   "outputs": [
    {
     "name": "stderr",
     "output_type": "stream",
     "text": [
      "Using a slow image processor as `use_fast` is unset and a slow processor was saved with this model. `use_fast=True` will be the default behavior in v4.48, even if the model was saved with a slow processor. This will result in minor differences in outputs. You'll still be able to use a slow processor with `use_fast=False`.\n"
     ]
    },
    {
     "data": {
      "text/plain": [
       "DepthAnythingForDepthEstimation(\n",
       "  (backbone): Dinov2Backbone(\n",
       "    (embeddings): Dinov2Embeddings(\n",
       "      (patch_embeddings): Dinov2PatchEmbeddings(\n",
       "        (projection): Conv2d(3, 1024, kernel_size=(14, 14), stride=(14, 14))\n",
       "      )\n",
       "      (dropout): Dropout(p=0.0, inplace=False)\n",
       "    )\n",
       "    (encoder): Dinov2Encoder(\n",
       "      (layer): ModuleList(\n",
       "        (0-23): 24 x Dinov2Layer(\n",
       "          (norm1): LayerNorm((1024,), eps=1e-06, elementwise_affine=True)\n",
       "          (attention): Dinov2SdpaAttention(\n",
       "            (attention): Dinov2SdpaSelfAttention(\n",
       "              (query): Linear(in_features=1024, out_features=1024, bias=True)\n",
       "              (key): Linear(in_features=1024, out_features=1024, bias=True)\n",
       "              (value): Linear(in_features=1024, out_features=1024, bias=True)\n",
       "              (dropout): Dropout(p=0.0, inplace=False)\n",
       "            )\n",
       "            (output): Dinov2SelfOutput(\n",
       "              (dense): Linear(in_features=1024, out_features=1024, bias=True)\n",
       "              (dropout): Dropout(p=0.0, inplace=False)\n",
       "            )\n",
       "          )\n",
       "          (layer_scale1): Dinov2LayerScale()\n",
       "          (drop_path): Identity()\n",
       "          (norm2): LayerNorm((1024,), eps=1e-06, elementwise_affine=True)\n",
       "          (mlp): Dinov2MLP(\n",
       "            (fc1): Linear(in_features=1024, out_features=4096, bias=True)\n",
       "            (activation): GELUActivation()\n",
       "            (fc2): Linear(in_features=4096, out_features=1024, bias=True)\n",
       "          )\n",
       "          (layer_scale2): Dinov2LayerScale()\n",
       "        )\n",
       "      )\n",
       "    )\n",
       "    (layernorm): LayerNorm((1024,), eps=1e-06, elementwise_affine=True)\n",
       "  )\n",
       "  (neck): DepthAnythingNeck(\n",
       "    (reassemble_stage): DepthAnythingReassembleStage(\n",
       "      (layers): ModuleList(\n",
       "        (0): DepthAnythingReassembleLayer(\n",
       "          (projection): Conv2d(1024, 256, kernel_size=(1, 1), stride=(1, 1))\n",
       "          (resize): ConvTranspose2d(256, 256, kernel_size=(4, 4), stride=(4, 4))\n",
       "        )\n",
       "        (1): DepthAnythingReassembleLayer(\n",
       "          (projection): Conv2d(1024, 512, kernel_size=(1, 1), stride=(1, 1))\n",
       "          (resize): ConvTranspose2d(512, 512, kernel_size=(2, 2), stride=(2, 2))\n",
       "        )\n",
       "        (2): DepthAnythingReassembleLayer(\n",
       "          (projection): Conv2d(1024, 1024, kernel_size=(1, 1), stride=(1, 1))\n",
       "          (resize): Identity()\n",
       "        )\n",
       "        (3): DepthAnythingReassembleLayer(\n",
       "          (projection): Conv2d(1024, 1024, kernel_size=(1, 1), stride=(1, 1))\n",
       "          (resize): Conv2d(1024, 1024, kernel_size=(3, 3), stride=(2, 2), padding=(1, 1))\n",
       "        )\n",
       "      )\n",
       "    )\n",
       "    (convs): ModuleList(\n",
       "      (0): Conv2d(256, 256, kernel_size=(3, 3), stride=(1, 1), padding=(1, 1), bias=False)\n",
       "      (1): Conv2d(512, 256, kernel_size=(3, 3), stride=(1, 1), padding=(1, 1), bias=False)\n",
       "      (2-3): 2 x Conv2d(1024, 256, kernel_size=(3, 3), stride=(1, 1), padding=(1, 1), bias=False)\n",
       "    )\n",
       "    (fusion_stage): DepthAnythingFeatureFusionStage(\n",
       "      (layers): ModuleList(\n",
       "        (0-3): 4 x DepthAnythingFeatureFusionLayer(\n",
       "          (projection): Conv2d(256, 256, kernel_size=(1, 1), stride=(1, 1))\n",
       "          (residual_layer1): DepthAnythingPreActResidualLayer(\n",
       "            (activation1): ReLU()\n",
       "            (convolution1): Conv2d(256, 256, kernel_size=(3, 3), stride=(1, 1), padding=(1, 1))\n",
       "            (activation2): ReLU()\n",
       "            (convolution2): Conv2d(256, 256, kernel_size=(3, 3), stride=(1, 1), padding=(1, 1))\n",
       "          )\n",
       "          (residual_layer2): DepthAnythingPreActResidualLayer(\n",
       "            (activation1): ReLU()\n",
       "            (convolution1): Conv2d(256, 256, kernel_size=(3, 3), stride=(1, 1), padding=(1, 1))\n",
       "            (activation2): ReLU()\n",
       "            (convolution2): Conv2d(256, 256, kernel_size=(3, 3), stride=(1, 1), padding=(1, 1))\n",
       "          )\n",
       "        )\n",
       "      )\n",
       "    )\n",
       "  )\n",
       "  (head): DepthAnythingDepthEstimationHead(\n",
       "    (conv1): Conv2d(256, 128, kernel_size=(3, 3), stride=(1, 1), padding=(1, 1))\n",
       "    (conv2): Conv2d(128, 32, kernel_size=(3, 3), stride=(1, 1), padding=(1, 1))\n",
       "    (activation1): ReLU()\n",
       "    (conv3): Conv2d(32, 1, kernel_size=(1, 1), stride=(1, 1))\n",
       "    (activation2): ReLU()\n",
       "  )\n",
       ")"
      ]
     },
     "execution_count": 4,
     "metadata": {},
     "output_type": "execute_result"
    }
   ],
   "source": [
    "image_processor = AutoImageProcessor.from_pretrained(\"depth-anything/Depth-Anything-V2-Small-hf\")\n",
    "model = AutoModelForDepthEstimation.from_pretrained(\"depth-anything/Depth-Anything-V2-Large-hf\")\n",
    "model.to(\"cuda\") \n"
   ]
  },
  {
   "cell_type": "code",
   "execution_count": 5,
   "metadata": {},
   "outputs": [],
   "source": [
    "import os\n",
    "from tqdm import tqdm"
   ]
  },
  {
   "cell_type": "code",
   "execution_count": 8,
   "metadata": {},
   "outputs": [
    {
     "name": "stderr",
     "output_type": "stream",
     "text": [
      "100%|██████████| 100/100 [00:07<00:00, 13.80it/s]\n"
     ]
    }
   ],
   "source": [
    "indoor_path = \"/home/coder/low-power-cv-challenge-track3/data/eval/indoor\"\n",
    "label_indoor_path = \"/home/coder/low-power-cv-challenge-track3/data/eval/indoor_labels\"\n",
    "for f in tqdm(glob(indoor_path+'**/*')):\n",
    "    image = Image.open(f)\n",
    "    inputs = image_processor(images=image, return_tensors=\"pt\")\n",
    "    inputs = {key: value.to(\"cuda\") for key, value in inputs.items()}\n",
    "    with torch.no_grad():\n",
    "        outputs = model(**inputs)\n",
    "    post_processed_output = image_processor.post_process_depth_estimation(\n",
    "    outputs,\n",
    "    target_sizes=[(448,448)],\n",
    "    )\n",
    "    predicted_depth = post_processed_output[0][\"predicted_depth\"]\n",
    "    depth = (predicted_depth - predicted_depth.min()) / (predicted_depth.max() - predicted_depth.min())\n",
    "    torch.save(depth,f\"{label_indoor_path}/{os.path.basename(f).split('.')[0]}.pt\")\n",
    "    \n",
    "\n"
   ]
  },
  {
   "cell_type": "code",
   "execution_count": 9,
   "metadata": {},
   "outputs": [
    {
     "name": "stderr",
     "output_type": "stream",
     "text": [
      "100%|██████████| 100/100 [00:07<00:00, 13.82it/s]\n"
     ]
    }
   ],
   "source": [
    "outdoor_path = \"/home/coder/low-power-cv-challenge-track3/data/eval/outdoor\"\n",
    "label_outdoor_path = \"/home/coder/low-power-cv-challenge-track3/data/eval/outdoor_labels\"\n",
    "for f in tqdm(glob(outdoor_path+'**/*')):\n",
    "    image = Image.open(f)\n",
    "    inputs = image_processor(images=image, return_tensors=\"pt\")\n",
    "    inputs = {key: value.to(\"cuda\") for key, value in inputs.items()}\n",
    "    with torch.no_grad():\n",
    "        outputs = model(**inputs)\n",
    "    post_processed_output = image_processor.post_process_depth_estimation(\n",
    "    outputs,\n",
    "    target_sizes=[(448,448)],\n",
    "    )\n",
    "    predicted_depth = post_processed_output[0][\"predicted_depth\"]\n",
    "    depth = (predicted_depth - predicted_depth.min()) / (predicted_depth.max() - predicted_depth.min())\n",
    "    torch.save(depth,f\"{label_outdoor_path}/{os.path.basename(f).split('.')[0]}.pt\")\n",
    "    \n",
    "\n"
   ]
  },
  {
   "cell_type": "code",
   "execution_count": 1,
   "metadata": {},
   "outputs": [],
   "source": []
  },
  {
   "cell_type": "code",
   "execution_count": 2,
   "metadata": {},
   "outputs": [],
   "source": [
    "\n"
   ]
  },
  {
   "cell_type": "code",
   "execution_count": null,
   "metadata": {},
   "outputs": [],
   "source": []
  }
 ],
 "metadata": {
  "kernelspec": {
   "display_name": "lpcvc",
   "language": "python",
   "name": "python3"
  },
  "language_info": {
   "codemirror_mode": {
    "name": "ipython",
    "version": 3
   },
   "file_extension": ".py",
   "mimetype": "text/x-python",
   "name": "python",
   "nbconvert_exporter": "python",
   "pygments_lexer": "ipython3",
   "version": "3.11.11"
  }
 },
 "nbformat": 4,
 "nbformat_minor": 2
}
